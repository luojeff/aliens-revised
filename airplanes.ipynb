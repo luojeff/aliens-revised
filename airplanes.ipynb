{
 "cells": [
  {
   "cell_type": "code",
   "execution_count": 9,
   "metadata": {},
   "outputs": [
    {
     "name": "stdout",
     "output_type": "stream",
     "text": [
      "Requirement already satisfied: matplotlib in ./venv/lib/python2.7/site-packages\n",
      "Requirement already satisfied: pyparsing!=2.0.4,!=2.1.2,!=2.1.6,>=2.0.1 in ./venv/lib/python2.7/site-packages (from matplotlib)\n",
      "Requirement already satisfied: numpy>=1.7.1 in ./venv/lib/python2.7/site-packages (from matplotlib)\n",
      "Requirement already satisfied: pytz in ./venv/lib/python2.7/site-packages (from matplotlib)\n",
      "Requirement already satisfied: backports.functools-lru-cache in ./venv/lib/python2.7/site-packages (from matplotlib)\n",
      "Requirement already satisfied: six>=1.10 in ./venv/lib/python2.7/site-packages (from matplotlib)\n",
      "Requirement already satisfied: cycler>=0.10 in ./venv/lib/python2.7/site-packages (from matplotlib)\n",
      "Requirement already satisfied: subprocess32 in ./venv/lib/python2.7/site-packages (from matplotlib)\n",
      "Requirement already satisfied: python-dateutil>=2.0 in ./venv/lib/python2.7/site-packages (from matplotlib)\n",
      "Requirement already satisfied: pandas in ./venv/lib/python2.7/site-packages\n",
      "Requirement already satisfied: pytz>=2011k in ./venv/lib/python2.7/site-packages (from pandas)\n",
      "Requirement already satisfied: python-dateutil in ./venv/lib/python2.7/site-packages (from pandas)\n",
      "Requirement already satisfied: numpy>=1.9.0 in ./venv/lib/python2.7/site-packages (from pandas)\n",
      "Requirement already satisfied: six>=1.5 in ./venv/lib/python2.7/site-packages (from python-dateutil->pandas)\n",
      "Requirement already satisfied: statsmodels in ./venv/lib/python2.7/site-packages\n",
      "Requirement already satisfied: scipy in ./venv/lib/python2.7/site-packages (from statsmodels)\n",
      "Requirement already satisfied: patsy in ./venv/lib/python2.7/site-packages (from statsmodels)\n",
      "Requirement already satisfied: pandas in ./venv/lib/python2.7/site-packages (from statsmodels)\n",
      "Requirement already satisfied: numpy>=1.8.2 in ./venv/lib/python2.7/site-packages (from scipy->statsmodels)\n",
      "Requirement already satisfied: six in ./venv/lib/python2.7/site-packages (from patsy->statsmodels)\n",
      "Requirement already satisfied: pytz>=2011k in ./venv/lib/python2.7/site-packages (from pandas->statsmodels)\n",
      "Requirement already satisfied: python-dateutil in ./venv/lib/python2.7/site-packages (from pandas->statsmodels)\n",
      "Requirement already satisfied: googlemaps in ./venv/lib/python2.7/site-packages\n",
      "Requirement already satisfied: requests<3.0,>=2.11.1 in ./venv/lib/python2.7/site-packages (from googlemaps)\n",
      "Requirement already satisfied: idna<2.7,>=2.5 in ./venv/lib/python2.7/site-packages (from requests<3.0,>=2.11.1->googlemaps)\n",
      "Requirement already satisfied: urllib3<1.23,>=1.21.1 in ./venv/lib/python2.7/site-packages (from requests<3.0,>=2.11.1->googlemaps)\n",
      "Requirement already satisfied: certifi>=2017.4.17 in ./venv/lib/python2.7/site-packages (from requests<3.0,>=2.11.1->googlemaps)\n",
      "Requirement already satisfied: chardet<3.1.0,>=3.0.2 in ./venv/lib/python2.7/site-packages (from requests<3.0,>=2.11.1->googlemaps)\n"
     ]
    }
   ],
   "source": [
    "import sys\n",
    "!{sys.executable} -m pip install matplotlib\n",
    "!{sys.executable} -m pip install pandas\n",
    "!{sys.executable} -m pip install statsmodels\n",
    "!{sys.executable} -m pip install googlemaps"
   ]
  },
  {
   "cell_type": "code",
   "execution_count": 1,
   "metadata": {},
   "outputs": [],
   "source": [
    "import pandas as pd\n",
    "import numpy as np\n",
    "import matplotlib\n",
    "import matplotlib.pyplot as plt\n",
    "#import statsmodels.api as sm"
   ]
  },
  {
   "cell_type": "code",
   "execution_count": 36,
   "metadata": {},
   "outputs": [],
   "source": [
    "flights = pd.read_csv('./data/flights/all_flights.csv')\n",
    "flights = flights.drop(columns=['FL_NUM', 'ORIGIN_CITY_MARKET_ID', 'DEST_CITY_MARKET_ID'])\n",
    "flights = flights.loc[:, ~flights.columns.str.contains('^Unnamed')]\n",
    "\n",
    "ufos = pd.read_csv(\"data/ufo-sightings/ufos-2013.csv\", sep=',', low_memory=False)\n",
    "ufos['lat'] = ufos['latitude']\n",
    "ufos['lng'] = ufos['longitude']\n",
    "ufos = ufos[[ 'datetime', 'duration (seconds)', 'lat', 'lng' ]]\n",
    "ufos = ufos[ ufos['datetime'] > '2013-01-01 00:00:00' ]"
   ]
  },
  {
   "cell_type": "code",
   "execution_count": 39,
   "metadata": {},
   "outputs": [
    {
     "data": {
      "text/html": [
       "<div>\n",
       "<style scoped>\n",
       "    .dataframe tbody tr th:only-of-type {\n",
       "        vertical-align: middle;\n",
       "    }\n",
       "\n",
       "    .dataframe tbody tr th {\n",
       "        vertical-align: top;\n",
       "    }\n",
       "\n",
       "    .dataframe thead th {\n",
       "        text-align: right;\n",
       "    }\n",
       "</style>\n",
       "<table border=\"1\" class=\"dataframe\">\n",
       "  <thead>\n",
       "    <tr style=\"text-align: right;\">\n",
       "      <th></th>\n",
       "      <th>datetime</th>\n",
       "      <th>duration (seconds)</th>\n",
       "      <th>lat</th>\n",
       "      <th>lng</th>\n",
       "    </tr>\n",
       "  </thead>\n",
       "  <tbody>\n",
       "    <tr>\n",
       "      <th>5</th>\n",
       "      <td>2013-01-01 00:01:00</td>\n",
       "      <td>180.0</td>\n",
       "      <td>45.523611</td>\n",
       "      <td>-122.675000</td>\n",
       "    </tr>\n",
       "    <tr>\n",
       "      <th>6</th>\n",
       "      <td>2013-01-01 00:02:00</td>\n",
       "      <td>120.0</td>\n",
       "      <td>30.411111</td>\n",
       "      <td>-88.827778</td>\n",
       "    </tr>\n",
       "    <tr>\n",
       "      <th>7</th>\n",
       "      <td>2013-01-01 00:02:00</td>\n",
       "      <td>60.0</td>\n",
       "      <td>18.473833</td>\n",
       "      <td>-66.938512</td>\n",
       "    </tr>\n",
       "    <tr>\n",
       "      <th>8</th>\n",
       "      <td>2013-01-01 00:04:00</td>\n",
       "      <td>300.0</td>\n",
       "      <td>-27.522349</td>\n",
       "      <td>153.191323</td>\n",
       "    </tr>\n",
       "    <tr>\n",
       "      <th>9</th>\n",
       "      <td>2013-01-01 00:04:00</td>\n",
       "      <td>180.0</td>\n",
       "      <td>37.639167</td>\n",
       "      <td>-120.995833</td>\n",
       "    </tr>\n",
       "  </tbody>\n",
       "</table>\n",
       "</div>"
      ],
      "text/plain": [
       "              datetime  duration (seconds)        lat         lng\n",
       "5  2013-01-01 00:01:00               180.0  45.523611 -122.675000\n",
       "6  2013-01-01 00:02:00               120.0  30.411111  -88.827778\n",
       "7  2013-01-01 00:02:00                60.0  18.473833  -66.938512\n",
       "8  2013-01-01 00:04:00               300.0 -27.522349  153.191323\n",
       "9  2013-01-01 00:04:00               180.0  37.639167 -120.995833"
      ]
     },
     "execution_count": 39,
     "metadata": {},
     "output_type": "execute_result"
    }
   ],
   "source": [
    "ufos.head()"
   ]
  },
  {
   "cell_type": "code",
   "execution_count": 40,
   "metadata": {},
   "outputs": [
    {
     "data": {
      "text/html": [
       "<div>\n",
       "<style scoped>\n",
       "    .dataframe tbody tr th:only-of-type {\n",
       "        vertical-align: middle;\n",
       "    }\n",
       "\n",
       "    .dataframe tbody tr th {\n",
       "        vertical-align: top;\n",
       "    }\n",
       "\n",
       "    .dataframe thead th {\n",
       "        text-align: right;\n",
       "    }\n",
       "</style>\n",
       "<table border=\"1\" class=\"dataframe\">\n",
       "  <thead>\n",
       "    <tr style=\"text-align: right;\">\n",
       "      <th></th>\n",
       "      <th>FL_DATE</th>\n",
       "      <th>DEP_TIME</th>\n",
       "      <th>ARR_TIME</th>\n",
       "      <th>o_lat</th>\n",
       "      <th>o_lng</th>\n",
       "      <th>d_lat</th>\n",
       "      <th>d_lng</th>\n",
       "    </tr>\n",
       "  </thead>\n",
       "  <tbody>\n",
       "    <tr>\n",
       "      <th>0</th>\n",
       "      <td>2013-01-01</td>\n",
       "      <td>71820</td>\n",
       "      <td>82680</td>\n",
       "      <td>40.690292</td>\n",
       "      <td>-73.988544</td>\n",
       "      <td>26.640628</td>\n",
       "      <td>-81.872308</td>\n",
       "    </tr>\n",
       "    <tr>\n",
       "      <th>1</th>\n",
       "      <td>2013-01-01</td>\n",
       "      <td>43140</td>\n",
       "      <td>53940</td>\n",
       "      <td>40.690292</td>\n",
       "      <td>-73.988544</td>\n",
       "      <td>26.640628</td>\n",
       "      <td>-81.872308</td>\n",
       "    </tr>\n",
       "    <tr>\n",
       "      <th>2</th>\n",
       "      <td>2013-01-01</td>\n",
       "      <td>56640</td>\n",
       "      <td>67140</td>\n",
       "      <td>40.690292</td>\n",
       "      <td>-73.988544</td>\n",
       "      <td>26.640628</td>\n",
       "      <td>-81.872308</td>\n",
       "    </tr>\n",
       "    <tr>\n",
       "      <th>3</th>\n",
       "      <td>2013-01-01</td>\n",
       "      <td>59580</td>\n",
       "      <td>68820</td>\n",
       "      <td>26.640628</td>\n",
       "      <td>-81.872308</td>\n",
       "      <td>40.690292</td>\n",
       "      <td>-73.988544</td>\n",
       "    </tr>\n",
       "    <tr>\n",
       "      <th>4</th>\n",
       "      <td>2013-01-01</td>\n",
       "      <td>70140</td>\n",
       "      <td>79560</td>\n",
       "      <td>26.640628</td>\n",
       "      <td>-81.872308</td>\n",
       "      <td>40.690292</td>\n",
       "      <td>-73.988544</td>\n",
       "    </tr>\n",
       "  </tbody>\n",
       "</table>\n",
       "</div>"
      ],
      "text/plain": [
       "      FL_DATE  DEP_TIME  ARR_TIME      o_lat      o_lng      d_lat      d_lng\n",
       "0  2013-01-01     71820     82680  40.690292 -73.988544  26.640628 -81.872308\n",
       "1  2013-01-01     43140     53940  40.690292 -73.988544  26.640628 -81.872308\n",
       "2  2013-01-01     56640     67140  40.690292 -73.988544  26.640628 -81.872308\n",
       "3  2013-01-01     59580     68820  26.640628 -81.872308  40.690292 -73.988544\n",
       "4  2013-01-01     70140     79560  26.640628 -81.872308  40.690292 -73.988544"
      ]
     },
     "execution_count": 40,
     "metadata": {},
     "output_type": "execute_result"
    }
   ],
   "source": [
    "flights.head()"
   ]
  },
  {
   "cell_type": "code",
   "execution_count": null,
   "metadata": {},
   "outputs": [],
   "source": []
  }
 ],
 "metadata": {
  "kernelspec": {
   "display_name": "Python 2",
   "language": "python",
   "name": "python2"
  },
  "language_info": {
   "codemirror_mode": {
    "name": "ipython",
    "version": 2
   },
   "file_extension": ".py",
   "mimetype": "text/x-python",
   "name": "python",
   "nbconvert_exporter": "python",
   "pygments_lexer": "ipython2",
   "version": "2.7.10"
  }
 },
 "nbformat": 4,
 "nbformat_minor": 2
}
